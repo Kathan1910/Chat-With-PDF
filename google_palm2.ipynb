{
 "cells": [
  {
   "cell_type": "code",
   "execution_count": 28,
   "metadata": {},
   "outputs": [],
   "source": [
    "from PyPDF2 import PdfReader\n",
    "from langchain.embeddings.google_palm import GooglePalmEmbeddings  # Changed from OpenAIEmbeddings\n",
    "from langchain.text_splitter import CharacterTextSplitter\n",
    "from langchain.vectorstores import FAISS\n",
    "from langchain.llms.google_palm import GooglePalm  # Changed from OpenAI\n"
   ]
  },
  {
   "cell_type": "code",
   "execution_count": 29,
   "metadata": {},
   "outputs": [],
   "source": [
    "import os\n",
    "os.environ[\"GOOGLE_API_KEY\"] = \"Enter Your API Key Here\" "
   ]
  },
  {
   "cell_type": "code",
   "execution_count": 30,
   "metadata": {},
   "outputs": [],
   "source": [
    "# provide the path of  pdf file/files.\n",
    "pdfreader = PdfReader('generative.pdf')"
   ]
  },
  {
   "cell_type": "code",
   "execution_count": 31,
   "metadata": {},
   "outputs": [],
   "source": [
    "from typing_extensions import Concatenate\n",
    "# read text from pdf\n",
    "raw_text = ''\n",
    "for i, page in enumerate(pdfreader.pages):\n",
    "    content = page.extract_text()\n",
    "    if content:\n",
    "        raw_text += content"
   ]
  },
  {
   "cell_type": "code",
   "execution_count": 32,
   "metadata": {},
   "outputs": [
    {
     "data": {
      "text/plain": [
       "\"Little HandbookA try to keep policies transparent and easy to understand●General Policies○Medical ﬁtness and veriﬁcation○Duties and ObliĀations●Onboarding○Email, Chat, and other account creations○Introduction to the team and client○TraininĀ and StartinĀ the learninĀ track○EvaluatinĀ skills○Machine setup and soÿtware installation●Holidays●Leaves●Tracking work time●Salary, deductions, Increments, and allowances●NDA, data protection, and conﬁdentiality●WFH and WFO●Machine usage, maintenance, and damage liabilities●Probation period●Resignation, Termination, and Notice period●FAQs(1.1, 13/12/22)This document is strictly private and for internal use of UpforceTech employees, should not be distributed.\\nGeneral PoliciesMedical ﬁtness and veriﬁcationIt's a must ÿor all the employees to provide their accurate details and iÿ there is anychanĀe in your earlier provided address, you must share updated address details.In case oÿ any medical issues which may or may not a\\x00ect your work liÿe, you must keepthe company inÿormed.At the time oÿ joininĀ you will be asked to submit:●Current address prooÿ●Permanent address prooÿ●PAN●Adhar card●2 photoĀraphsYour appointment is subject to:●You are beinĀ declared, (and remaininĀ), ﬁt. The company has the riĀht to Āet youmedically examined by a certiﬁed medical practitioner durinĀ the period oÿ yourservices. In case you are ÿound medically unﬁt to continue with the job, you will loseyour lien on the job.●Veriﬁcation oÿ the particulars mentioned in your application and any documentscertiﬁcates, testimonials, resume or reÿerences, etc. submitted in support oÿ yourapplication. In case these particular declarations or documents etc. asaÿorementioned are ÿound to be ÿalse or unsubstantiated your employment withthe company will be liable ÿor termination immediately without any reason ornotice thereoÿ and without compensation at any time.This document is strictly private and for internal use of UpforceTech employees, should not be distributed.\\nDuties and Obligations●Your duties will be inÿormed to you upon the commencement oÿ your employmentand can be varied at any time commensurate to your skill.●The company will expect you to work with a hiĀh standard oÿ initiative, e\\x00ciency,and economy at all times.●You will devote your entire time to the work oÿ the company and will not undertakeany other direct/indirect business or work, honorary, or remuneration except withthe prior written permission oÿ the company in each and every case.●You shall not seek membership in any local or public bodies without ﬁrst obtaininĀwritten permission ÿrom the company, you shall disclose the same to the company,and obtain prior approval ÿrom the company, beÿore the commencement oÿ yourduties.●You will be responsible ÿor the saÿekeepinĀ, maintenance, and return in Āoodcondition and order oÿ all properties oÿ the company which may be in your use,custody, care, or charĀe and shall return the same to the company immediatelyupon relinquishment oÿ your employment.●For the loss oÿ any property belonĀinĀ to the company in your possession,custody, care, or charĀe, the company will have the riĀht to assess on its own basisand recover the damaĀes and/or oÿ all such material/property ÿrom you and toThis document is strictly private and for internal use of UpforceTech employees, should not be distributed.\\ntake such other action as it deems proper in the event oÿ your ÿailure to accountÿor such material/property to its satisÿaction.●You shall not conclude any contracts bindinĀ on the company, whether in yourown name or on behalÿ oÿ a third party.●You shall abide by and ÿollow all company rules, reĀulations, and procedures inÿorce and as may be amended ÿrom time to time by the company.●Any inventions, or improvements that you or any other employment may makeconceive, invent, or suĀĀestions at any time durinĀ the period oÿ employmentwhether durinĀ or outside business hours which may be connected in any way withthe employment or with knowledĀe or inÿormation acquired durinĀ the employmentreĀardless oÿ whether such inventions or improvements are patentable orcopyriĀhtable, shall ÿully ÿreely and immediately be communicated by the employeeto the company in writinĀ and shall belonĀ to, and be the company’s absoluteproperty.\\nThis document is strictly private and for internal use of UpforceTech employees, should not be distributed.\\nOnboardinĀEmail, Chat, and other account creations●You will receive an email on your personal email address with all details oÿ yourcompany email account, the chat enĀine to use, and its ﬁrst-time credentials, youwill be asked to chanĀe your password, please use a stronĀ password.●You are needed to stay active on the Chat enĀine throuĀhout your work day. Andalso keep an eye on your emails, you can use your machine’s email client to set itup iÿ you wish.Introduction to the team and client●You will be introduced to the team member and added to a Team in the ChatenĀine with your buddy. He/She will help you Āet used to the work environment. Iÿyou need traininĀ beÿore assiĀninĀ to the project, your buddy will Āuide youthrouĀh it.●Introduction to clients may happen immediately or post your traininĀ, it dependson your readiness to start with the project. The process to introduce the client willdi\\x00er ÿrom client to client.TraininĀ and StartinĀ the learninĀ track●Iÿ your role is ÿor a junior position, or you need to learn some speciﬁc skills beÿoreassiĀnment to any project, you will Āet a complete idea oÿ your traininĀ or thelearninĀ track.●We expect your 100% involvement durinĀ learninĀ/traininĀ as that will be thedecidinĀ ÿactor in assiĀninĀ to the real project.This document is strictly private and for internal use of UpforceTech employees, should not be distributed.\\nEvaluatinĀ skills●There will be di\\x00erent methods to evaluate skills ÿor person to person, you will beasked to work on dummy projects, internal projects, or work on live projects toevaluate your skills. Your buddy will help you as needed.Machine setup and soÿtware installation●Iÿ you are ĀoinĀ to use a company-provided machine, most likely will be ÿreshly setup without any additional pre-installed soÿtware.●Based on your skillset, you must install all relevant soÿtware on the providedmachine. Iÿ you require any speciﬁc soÿtware, you must take prior approval beÿoreinstallinĀ it.●In case you are assiĀned to an existinĀ project, your buddy (or any team member)will Āuide you with the initial setup. You must avoid the use oÿ pirated soÿtware.\\nThis document is strictly private and for internal use of UpforceTech employees, should not be distributed.\\nHolidays●A holiday list ÿor the current year will be provided to you in the onboardinĀ email.●A new holiday list ÿor the upcominĀ year will be circulated by mid oÿ December oÿthe current year.●Please check all holidays and don't consider holidays on your own. We try our bestto adjust holidays in a way that you Āet to use maximum holidays durinĀ Diwali, iÿthat is not possible due to ÿestivals cominĀ on weekends, we adjust holidaysaccordinĀly, so don't consider holidays to match every year.●Saturdays and Sundays are o\\x00 but manaĀement may cancel the Saturday o\\x00 incase oÿ work urĀency or deadlines.●The company may schedule any tech or ÿestivity event on Saturday which will bemandatory to attend, such days will be considered a work day and yourunavailability will be considered as a leave.\\nThis document is strictly private and for internal use of UpforceTech employees, should not be distributed.\\nLeaves●All the sta\\x00 members, excludinĀ trainees, consultants, and probationers, shall beeliĀible ÿor leaves.●Total 12 days oÿ privileĀe leave (PL) per calendar year. You will Āet one leave creditedto your leave pool each month.●PrivileĀe Leave (PL) cannot be availed ÿor less than halÿ a day or more than 2 daysat a time.●PrivileĀe Leave at a stretch beyond two days shall be treated as absent withoutleave.●PrivileĀe Leave cannot be combined with any other type oÿ leave.●Employees will not have any leaves durinĀ the probation period. All leaves durinĀthe probation period will be considered leave without pay (LWP)●An employee can use a maximum oÿ 2 PrivileĀe Leaves toĀether in a month.●PrivileĀe leave is non-cashable. It cannot be accumulated next quarter; iÿ it is notused then it will automatically lapse at the end oÿ every year.This document is strictly private and for internal use of UpforceTech employees, should not be distributed.\\n●All leave must be applied ÿor in writinĀ at least 5 days in advance ÿor leaves lessthan 2 days, ÿor 2 days or less than 4 days leaves, you must apply at least 10 days inadvance and any leaves more than that must be applied at least a month beÿore,written approval is mandatory by the company and client. In case oÿ an emerĀency,inÿorm the company by a call beÿore 11:00 AM oÿ that day.●To intimate about your leaves you must ÿollow these steps:○Iÿ you are a Trainee or not assiĀned to any live project■Send an email directly toleave@upÿorcetech.comwithdetails oÿ theleaves■Keep in mind, iÿ you are still on probation, even iÿ your leaves areapproved, they are leave-without-pay (LWP).○Iÿ you are assiĀned to any project■Take approval ÿrom the client usinĀ the communication method you usewith a speciﬁc client■Once the leave is approved, share the details onleave@upÿorcetech.com■Keep in mind, iÿ you are still on probation, even iÿ your leaves areapproved, they are leave-without-pay (LWP)\\nThis document is strictly private and for internal use of UpforceTech employees, should not be distributed.\\n○Any unapproved leave ÿrom the client or company will be consideredleave-without-pay (LWP) any such leaves will also brinĀ action and showcause.○Any leave without ÿollowinĀ the steps mentioned above will be consideredunapproved leave.●All un-inÿormed/sudden leave will be considered as leave-without-pay (LWP).●Any unplanned leave (unapproved leave) taken immediately beÿore or aÿter publicholidays or weekends will be subject to deduction includinĀ holidays and weekendsĀiven by the company.●Once you are back ÿrom unplanned leave, you must send mail to leave@upÿorcetech.com  with a reason ÿor your leave.●For your marriaĀe, you can take up to 12 PLs (dependinĀ on your leave credit pool).●Iÿ you take more than 20 days oÿ leave in a year, your increment can be delayed by amonth.\\nThis document is strictly private and for internal use of UpforceTech employees, should not be distributed.\\nTrackinĀ work time & TiminĀs●We have chanĀed the way we were trackinĀ work time, as ÿew oÿ our members workremotely the o\\x00ce in/out punch system is oÿ no use.●To keep it in the same place, everyone will be asked to use a soÿtware tracker. Youwill be provided with its credentials and how-to in a separate email.●From the day you are provided with the account, it's your responsibility to track thework time accurately usinĀ the soÿtware.●Iÿ you are ÿacinĀ any problem with the soÿtware, you must inÿorm us and don'tconsider it ﬁne not to track the time.●Also, the soÿtware will be savinĀ all your activities and random screenshots so thecompany will be able to evaluate how are you spendinĀ your time.●Iÿ any discrepancies are ÿound in the tracked times, activities, or screenshots, youwill be questioned.●Any time trackinĀ which is ÿound invalid, or does represent irrelevant work to whatwas assiĀned, will be considered as a leave-without-pay and you will be questioned.This document is strictly private and for internal use of UpforceTech employees, should not be distributed.\\n●As this will be the sinĀle place to capture all presence, the ﬁnal monthly reportÿrom the soÿtware will be used to calculate your leaves, as mentioned in the leavessection, any unapproved leaves will be considered as a leave-without-pay.Timings:●Saturdays and Sundays are o\\x00 but manaĀement may cancel the Saturday o\\x00 incase oÿ work urĀency or deadlines.●Work TiminĀs: 10:00 AM to 07:00 PM. (Flexible up to 2 hours)○WorkinĀ hours: 8 hours.○Lunch + Tea break: 1 hour.●Iÿ you start work beÿore 10 am, you must take prior approval ÿrom the company andclient.●Iÿ workinĀ hours are between 7:30 and 8:00, the employee needs to take prior writtenpermission ÿrom his immediate senior, else it will be considered as a halÿ-day leave.●Iÿ workinĀ hours are below 7:30 hours, it will be considered as a halÿ-day leave.●For the halÿ-day leave minimum workinĀ hours: 4 hours 30 minutes (ExcludinĀ lunchand tea break).●DurinĀ the halÿ-day leave iÿ the employee worked hours less than 4 hours 30minutes it will be considered as a ÿull leave.This document is strictly private and for internal use of UpforceTech employees, should not be distributed.\\nDaily status updates:ProvidinĀ your daily status updates at the end oÿ the day is mandatory ÿor all, it doesn'tmatter what role you are perÿorminĀ or what experience level you have. You must shareyour daily updates at the end oÿ the day.●Iÿ you are assiĀned to any project, you must share your daily updates with theclient via their preÿerred channel, and share the same content with the person youare reportinĀ to either on their email id or dm on our chat client. Iÿ you are notreportinĀ to anyone, send it totodo@upÿorcetech.com●Iÿ you are not assiĀned to any project or you are beinĀ trained, you must use thecommon channel created on the chat client to share your daily status updates.Just because all involved in the channel Āets your updates.●There are no currently strict rules applied to the daily status updates, but iÿ aperson repeats the same mistake over and over, we will consider a halÿ-day leaveÿor the o\\x00enders.\\nThis document is strictly private and for internal use of UpforceTech employees, should not be distributed.\\nSalary, deductions, Increments, and allowances●All payments oÿ salary and any other allowances will be payable monthly in arrearsto you via your bank account in each calendar month ÿollowinĀ the month in whichyou worked.●The salary oÿ the previous month will be credited to your account max by 10th oÿthe every month. Iÿ there is any delay ÿor any reason, you will be inÿormedbeÿorehand.●Your monthly salary and allowances (iÿ any) are as per your letter oÿ appointment.The company reserves the riĀht to modiÿy or chanĀe such salary, allowances, andbeneﬁts ÿrom time to time. Your salary, beneﬁts, and allowances shall be subject toany deductions, and withholdinĀs as may be required by the laws oÿ India.●Salaries oÿ employees will be revised every year oÿ one’s service, it will be completelybased on the employee’s perÿormance.●In case oÿ on-site work ÿor any client, you will be provided with allowances ÿor yourtravel, stay, and ÿood. You can share the details oÿ your expenses and all possiblebills and expect them to be provided to you in the next salary cycle.\\nThis document is strictly private and for internal use of UpforceTech employees, should not be distributed.\\nNDA, Data Protection, and ConﬁdentialityNDA●Aÿter you join, you will be asked to siĀn an NDA alonĀ with the service aĀreement.We take the privacy oÿ the data oÿ the company and our clients very seriously, youmust adhere to the rules ÿor data protection and conﬁdentiality.Data Protection & Email Usage Policy●All work done by you ÿor this company, be it related to code, testinĀ, ĀuidinĀ,traininĀ, or any tanĀible and intanĀible item is the property oÿ the company. Allsuch items must always be protected ÿrom theÿt and public presence. The companyalways siĀns NDA with the end clients and any leak or breach in their NDA and/ordata will be directly linked to the source oÿ the breach, hence all leĀal actions, suits,or alleĀations are passed on to the source oÿ the breach.●Always stay alert while sharinĀ any oÿ the above items with anyone else, in oroutside oÿ the company. Avoid sharinĀ without prior permission.●DurinĀ the course oÿ your employment with the Company, you shall have access toa wide variety oÿ data and documents, some oÿ which may have been created byyou alone or as a part oÿ a team.This document is strictly private and for internal use of UpforceTech employees, should not be distributed.\\n●The Company at all times retains absolute ownership oÿ such content, documents,or data and you shall not copy, transmit, remove or alter such data except inpursuance oÿ your o\\x00cial duties. The computer system should not be used ÿor anyunauthorized use.●The E-mail address Āiven to you by the company authorizes you to communicatewithvarious entities and users within and outside the Company. Use the Email only ÿorbusiness purposes and activities. Personal e-mails should be very brieÿ.●Do not make any claim on the Company ÿor the breach oÿ E-mail privacy.●Do not use the E-mail ÿor makinĀ any lewd, disparaĀinĀ or o\\x00ensive remarks thatmay hurt the sensitivities oÿ any other employee. Any violation on this account isliable ÿor disciplinary action which includes dismissal ÿrom service apart ÿrom anyleĀal action.●Do not send any E-mail ÿrom the company’s E-mail account or usinĀ theCompany’s system that may hurt the reliĀious, cultural or political sensitivities oÿthe recipient.●Fully understand that the E-mail documents are the property oÿ the company andsince it is not encrypted or secured, it should not be used ÿor the exchanĀe oÿconﬁdential inÿormation.This document is strictly private and for internal use of UpforceTech employees, should not be distributed.\\n●Do not attach your personal mobile phones to company computers.●In the event oÿ any breach oÿ the ÿoreĀoinĀ provisions, the employees shall ÿorÿeitany and all riĀhts to any payments or obliĀations owed or to owe to him/her thecompany. Furthermore, the parties aĀree that iÿ any oÿ the provisions oÿ thissecurity and conﬁdentiality aĀreement and breached, the company may, inaddition to the ÿoreĀoinĀ, pursue any other riĀht or remedy available to it by law orin equity, includinĀ without limitinĀ to the Āenerality oÿ the ÿoreĀoinĀ oÿ theinjunction to restrain such breach.Conﬁdentiality●You must always maintain the hiĀhest deĀree oÿ secrecy and keep conﬁdential therecords, documents, and such other inÿormation relatinĀ to the business oÿ thecompany which may be known to you or conﬁded in you, or Āiven to you by anymeans in the course oÿ your employment with the company. And you shall take allreasonable steps ÿor the proper and secure storaĀe oÿ such inÿormation.●You shall not durinĀ the continuance oÿ your employment with the company or atany time aÿter termination oÿ your employment use, disclose, divulĀe orcommunicate in any manner either directly or indirectly any inÿormation (conﬁdential or otherwise) oÿ the company trade secrets or know-how to anyperson, ﬁrm, corporation, association or other entity ÿor any reason or purposewhatsoever. This includes but is not limited to inÿormation reĀardinĀ onlinestationery desiĀninĀ and PDF Āeneration ÿor the print industry.This document is strictly private and for internal use of UpforceTech employees, should not be distributed.\\n●All oriĀinal or copies oÿ drawinĀs, speciﬁcations, data, or other documentscontaininĀ trade secrets or conﬁdential inÿormation which come into yourpossession durinĀ the continuance oÿ your employment with the company.●Employee, upon the termination oÿ his/her employment, shall surrender to theCompany all records, ﬁles, and materials pertaininĀ to or used by the company orany oÿ its clients.●The company reserves all the riĀhts to take appropriate action aĀainst you durinĀor aÿter the period oÿ your employment in the event you disclose or retain anycompany inÿormation without authority as aÿorementioned by whatever means.●You are also specially restricted ÿrom workinĀ directly or indirectly with any oÿ theclients/contractors oÿ the company's existence durinĀ the employment with thecompany ÿor at least 5 years ÿrom the date oÿ leavinĀ services oÿ the company.●All work done by you in this company, either its client work, in-house project, oryour idea beinĀ implemented by you or any other person in the company will beconsidered a product oÿ the company and it will be released/published to thepublic with the name oÿ the company. All copyriĀhts will be held by the companyand the company will be the proprietor oÿ the code too. Even iÿ the code ispublished to any open-source community with any open-source license, thecopyriĀht holder will be the company.This document is strictly private and for internal use of UpforceTech employees, should not be distributed.\\nWork ÿrom Home / Work ÿrom O\\x00ceWe have o\\x00ered work ÿrom home to a ÿew oÿ our team members ÿor one or the otherreason, however, all new hirinĀ is completely based on work ÿrom the o\\x00ce. TheprivileĀed ones can continue WFH until there is a necessity to have them WFO.WFH or WFO you still have to adhere to all rules mentioned here, it doesn't Ārant anyother privileĀe than workinĀ remotely. You have to Āive your best e\\x00orts and beavailable as and when needed.Rules ÿor workinĀ ÿrom the o\\x00ce:●Iÿ you are workinĀ ÿrom the o\\x00ce and want to have a ÿew days oÿ work ÿrom home,you can request the same, provided, you are workinĀ on a live project and have aproven work record oÿ workinĀ independently.●Same as leaves, you must share WFH requests throuĀh email tohr@upÿorcetech.comwith a valid reason. You will beprovided 20 days oÿ WFH in ayear.  Please avoid seekinĀ WFH just ÿor convenience.●Any WFH requests will be checked and questioned, iÿ ÿound the WFH request wasjust placed to avoid a leave, you can be ÿorced to apply ÿor the leave instead oÿWFH.This document is strictly private and for internal use of UpforceTech employees, should not be distributed.\\nRules to ÿollow durinĀ WFH:●You must ÿollow the decided timinĀs, you must not start work beÿore 10 am withoutprior approval ÿrom the company and client.●You must keep trackinĀ your work the same way as a normal day, as mentionedearlier, whatever timinĀs are tracked in the tracker will be used to calculate yourﬁnal presence inÿormation.●Any excuses like power cuts, internet issues, and machine issues will not beconsidered as a reason ÿor not trackinĀ the time, only tracked hours will becalculated.●Iÿ you don't have any work/task assiĀned to you, you must inÿorm your TL or towhom you are reportinĀ.●Iÿ you don't have any work and keep trackinĀ the time without actual work and itwas noticed, you will be asked to show cause and ÿor the repeat cases, there will beactions aĀainst it. Don't consider work ÿree time as an o\\x00 and try to be helpÿul tothe other team members and company with your skills.\\nThis document is strictly private and for internal use of UpforceTech employees, should not be distributed.\\nThere are some perks oÿ workinĀ ÿrom the o\\x00ce thouĀh●Besides the connection with your colleaĀues, we will have ÿrequent events in thecompany like ÿestival celebrations, birthday celebrations, snacks party, lunch, anddinner outside.●Every last Friday oÿ the month will be eventÿul, with in-house Āames and snacksalonĀ with birthday cake cuttinĀs. (all aÿter completinĀ work hours thouĀh).●Will soon start tech and non-tech events too.\\nThis document is strictly private and for internal use of UpforceTech employees, should not be distributed.\\nMachine usaĀe, maintenance, and damaĀe liabilities●You must take proper care oÿ the company-provided machines, mobiles, or anyother device or ĀadĀet.●Try to keep the devices clean, and make a habit to clean them reĀularly, thecleanliness oÿ your devices shows how orĀanized and disciplined you are.●There will be cases when you ÿace soÿtware or hardware-related issues with yourmachine, you can inÿorm to whom you are reportinĀ on the chat aĀent, and iÿneeded, share screenshots and as many details as you can.●Based on the severity oÿ the problem you are ÿacinĀ, the replacement machine orﬁx to your problem will be provided.●In case oÿ physical damaĀe, the situation will be assessed, and based on that it willbe evaluated ÿor the damaĀe liabilities. Iÿ any mishandlinĀ is involved, you will beliable ÿor either the complete replacement or repairs oÿ the damaĀed device.●You should never use the company-provided machine ÿor any oÿ your personal use.Iÿ ÿound doinĀ so, you will be asked ÿor WFO and keep the machine always in theo\\x00ce. The tracker shares all the analytics to ﬁnd out the usaĀe oÿ the machine.●DurinĀ WFO, you must take the company-provided machine/devices to your homeonly when it's a requirement oÿ your assiĀned project and with prior approval, it'syour responsibility to take care oÿ it, and you will be liable ÿor any damaĀe/loss.This document is strictly private and for internal use of UpforceTech employees, should not be distributed.\\nProbation Period●Based on your technical skill evaluation and experience you may have been Āivena certain probation period, iÿ it was never discussed or mentioned in any oÿ theletters, the deÿault probation period is oÿ 3 months.●You will be deemed a permanent employee oÿ the company ÿor all o\\x00cial purposesunless otherwise stated and communicated within 15 days oÿ completion oÿ yourprobation period.●DurinĀ the probation period, you can not have the privileĀe oÿ paid leaves, anyleave must ÿollow the rules as mentioned earlier thouĀh.\\nThis document is strictly private and for internal use of UpforceTech employees, should not be distributed.\\nResiĀnation, Notice period, and TerminationResignation●We accept that people move on ÿor one reason or another, but we have policies inplace ÿor resiĀnation and we must ÿollow them, in any such cases, beÿore justsendinĀ the email, please preÿer to have a call to discuss and understand thesituation.●Based on your service aĀreement, there is a pre-deﬁned time ÿrame ÿor which youare bound to provide your services to the company. Iÿ you are still in that aĀreedtime period and want to resiĀn, you must discuss it with HR. There are very rarechances oÿ relieÿ ÿrom the decided terms in this case.●Iÿ you are still in the probation period and want to resiĀn, still the serviceaĀreement applies the same way as a permanent employee.●Iÿ you are out oÿ the aĀreed period and want to resiĀn, discuss it ﬁrst with HR and iÿyour decision stays the same, you must send the resiĀnation letter tohr@upÿorcetech.com●The relievinĀ date will be Āiven to you with the ÿormal acceptance oÿ yourresiĀnation, the relievinĀ date will be based on the situation, and you may have toThis document is strictly private and for internal use of UpforceTech employees, should not be distributed.\\nserve at least 2 months oÿ the notice period iÿ the knowledĀe transÿer and/orreplacement is time takinĀ.●On your last workinĀ day, you will be provided with all documents needed ÿromyour end. Please don't expect them to be delivered beÿore your relievinĀ date.Notice Period●The deﬁned notice period ÿor any kind oÿ resiĀnation is a minimum oÿ 2 months,the notice period can not be barĀained or bouĀht out. In any case, early relievinĀis possible, the ﬁnal decision will be ÿrom the company, and it can not bebarĀained.●DurinĀ the notice period, it's expected oÿ you to still perÿorm at ÿull capacity andhelp us with proper knowledĀe transÿer.●Aÿter the resiĀnation is accepted, you are not entitled to any paid leaves, anyleaves taken durinĀ the notice period will be unpaid and may also extend therelievinĀ date by the days oÿ the leave.●At the time oÿ ﬁnal settlement, iÿ you have taken leaves more than your allottedquota, it will be settled in the last salary.This document is strictly private and for internal use of UpforceTech employees, should not be distributed.\\n●DurinĀ your o\\x00er or increment, iÿ there are any terms decided about the minimumservinĀ term that is not ÿollowed, it may be settled in the ﬁnal payout as well.●Failure to Āive proper notice will result in the employee's salary oÿ up to a minimumoÿ two months beinĀ ÿorÿeited. In addition, you shall be required to pay thecompany such administrative ÿees and costs as a consequence oÿ ÿailinĀ to Āiveproper notice. You will also not be entitled to any perÿormance allowance, securitydeposit, documents, or variable pay the company is holdinĀ ÿor you.Termination●In any misÿortune event, it may lead the company to terminate your services, whichcan be related to the service aĀreement, NDA, Data protection or conﬁdentialitybreach, or any other behavior which is not expected.●Based on the severity oÿ the event, you will be Āiven a notice period, you are stillrequired to adhere to all company policies and help with all knowledĀe transÿer asneeded.Layo\\x00s●In any misÿortune event, the company may have to lay o\\x00 the employee, iÿ this iswithout any aĀreement/NDA breach, the company is liable to provide 30 day noticeperiod to the employee. Early relievinĀ, in this case, could be possible iÿ bothparties aĀree.This document is strictly private and for internal use of UpforceTech employees, should not be distributed.\\nFAQs●Can I share details of my project on my CV or any social media?The NDA and conﬁdentiality contract restrict us to show that we have worked on theproject, you must never disclose the project name, URL, or screenshots oÿ the project noton your CV or on any social media. Even the company does not disclose it on its website.There is an alternate way thouĀh, you can mention as a Āeneric title and description oÿthe project, the work you have done without mentioninĀ the project name, client name,URL, or screenshots.●Can I share my code on stack overﬂow or any other site online?You should not, as that is a data security breach, iÿ needed take permission ÿrom theclient ÿor the same, and iÿ not allowed, you can share pseudo code, but never share theoriĀinal code, excerpts, or screenshots online without prior permission.●If I take a leave on Monday, will that apply a sandwich rule?Iÿ your leaves are approved, it doesn't matter which days they ÿall into, there won't be anysandwich rule applied to them. But, iÿ they are unapproved and ÿall just beÿore or aÿterthe holiday, it will surely apply to a sandwich rule.This document is strictly private and for internal use of UpforceTech employees, should not be distributed.\\n●Is there any referral bonus policy?Yes, it depends on the years oÿ experience the reÿerred person has thouĀh. A reÿerralbonus starts ÿor any reÿerral with 2+ years oÿ experience. This policy keeps chanĀinĀbased on our hirinĀ needs, so please conﬁrm beÿorehand, and make sure the reÿerredperson mentions your name in their application.●I have some free time meanwhile I wait for new tasks, how should I spend time?We have multiple courses purchased on Udemy and other platÿorms, and you can evenuse any other medium to enhance your skills, please inÿorm us when you don't have anytasks, don't just track your time on WWT without any activity, it analyzes your activitiesand that is beinĀ noticed. You will surely Āet enouĀh work to utilize the time you have.\\nThis document is strictly private and for internal use of UpforceTech employees, should not be distributed.\\n\""
      ]
     },
     "execution_count": 32,
     "metadata": {},
     "output_type": "execute_result"
    }
   ],
   "source": [
    "raw_text"
   ]
  },
  {
   "cell_type": "code",
   "execution_count": 33,
   "metadata": {},
   "outputs": [
    {
     "name": "stderr",
     "output_type": "stream",
     "text": [
      "Created a chunk of size 1288, which is longer than the specified 800\n",
      "Created a chunk of size 1351, which is longer than the specified 800\n",
      "Created a chunk of size 929, which is longer than the specified 800\n",
      "Created a chunk of size 1382, which is longer than the specified 800\n",
      "Created a chunk of size 945, which is longer than the specified 800\n",
      "Created a chunk of size 991, which is longer than the specified 800\n",
      "Created a chunk of size 1079, which is longer than the specified 800\n",
      "Created a chunk of size 1133, which is longer than the specified 800\n",
      "Created a chunk of size 928, which is longer than the specified 800\n",
      "Created a chunk of size 1068, which is longer than the specified 800\n",
      "Created a chunk of size 1212, which is longer than the specified 800\n",
      "Created a chunk of size 1273, which is longer than the specified 800\n",
      "Created a chunk of size 1592, which is longer than the specified 800\n",
      "Created a chunk of size 1475, which is longer than the specified 800\n",
      "Created a chunk of size 1156, which is longer than the specified 800\n",
      "Created a chunk of size 903, which is longer than the specified 800\n",
      "Created a chunk of size 1459, which is longer than the specified 800\n",
      "Created a chunk of size 1168, which is longer than the specified 800\n",
      "Created a chunk of size 1071, which is longer than the specified 800\n",
      "Created a chunk of size 1317, which is longer than the specified 800\n",
      "Created a chunk of size 1228, which is longer than the specified 800\n"
     ]
    }
   ],
   "source": [
    "# We need to split the text using Character Text Split such that it should not increase token size\n",
    "text_splitter = CharacterTextSplitter(\n",
    "    separator=\"\\n\",\n",
    "    chunk_size=800,\n",
    "    chunk_overlap=200,\n",
    "    length_function=len,\n",
    ")\n",
    "texts = text_splitter.split_text(raw_text)"
   ]
  },
  {
   "cell_type": "code",
   "execution_count": 34,
   "metadata": {},
   "outputs": [],
   "source": [
    "# Download embeddings from Google PaLM\n",
    "embeddings = GooglePalmEmbeddings()  # Changed from OpenAIEmbeddings\n",
    "\n",
    "document_search = FAISS.from_texts(texts, embeddings)\n"
   ]
  },
  {
   "cell_type": "code",
   "execution_count": 35,
   "metadata": {},
   "outputs": [],
   "source": [
    "from langchain.chains.question_answering import load_qa_chain\n"
   ]
  },
  {
   "cell_type": "code",
   "execution_count": 36,
   "metadata": {},
   "outputs": [],
   "source": [
    "chain = load_qa_chain(GooglePalm(), chain_type=\"stuff\")  # Changed from OpenAI\n"
   ]
  },
  {
   "cell_type": "code",
   "execution_count": 37,
   "metadata": {},
   "outputs": [
    {
     "data": {
      "text/plain": [
       "\"The company policies are as follows:\\n- Employees must work with a high standard of initiative, efficiency, and economy at all times.\\n- Employees must devote their entire time to the work of the company and will not undertake any other direct/indirect business or work, honorary, or remuneration except with the prior written permission of the company in each and every case.\\n- Employees must not seek membership in any local or public bodies without first obtaining written permission from the company.\\n- Employees must be responsible for the safekeeping, maintenance, and return in good condition and order of all properties of the company which may be in their use, custody, care, or charge and shall return the same to the company immediately upon relinquishment of their employment.\\n- For the loss of any property belonging to the company in their possession, custody, care, or charge, the company will have the right to assess on its own basis and recover the damages and/or of all such material/property from them and to take disciplinary action.\\n- Employees must not disclose the project name, URL, or screenshots of the project not on their CV or on any social media.\\n- Employees should not share their code on stack overflow or any other site online without prior permission.\\n- If leaves are approved, it doesn't matter which days they fall into, there won't be any sandwich rule applied to them. But, if they are unapproved and fall just before or after the holiday, it will surely apply to a sandwich rule.\""
      ]
     },
     "execution_count": 37,
     "metadata": {},
     "output_type": "execute_result"
    }
   ],
   "source": [
    "query = \"Can You Explain the Company Policies?\"\n",
    "docs = document_search.similarity_search(query)\n",
    "chain.run(input_documents=docs, question=query)"
   ]
  },
  {
   "cell_type": "code",
   "execution_count": null,
   "metadata": {},
   "outputs": [],
   "source": []
  }
 ],
 "metadata": {
  "kernelspec": {
   "display_name": "myenv",
   "language": "python",
   "name": "python3"
  },
  "language_info": {
   "codemirror_mode": {
    "name": "ipython",
    "version": 3
   },
   "file_extension": ".py",
   "mimetype": "text/x-python",
   "name": "python",
   "nbconvert_exporter": "python",
   "pygments_lexer": "ipython3",
   "version": "3.8.18"
  }
 },
 "nbformat": 4,
 "nbformat_minor": 2
}
